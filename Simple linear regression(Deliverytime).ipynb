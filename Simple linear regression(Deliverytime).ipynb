{
  "nbformat": 4,
  "nbformat_minor": 0,
  "metadata": {
    "colab": {
      "provenance": [],
      "authorship_tag": "ABX9TyO1PjYUkIip3ufT60NQz5Te",
      "include_colab_link": true
    },
    "kernelspec": {
      "name": "python3",
      "display_name": "Python 3"
    },
    "language_info": {
      "name": "python"
    }
  },
  "cells": [
    {
      "cell_type": "markdown",
      "metadata": {
        "id": "view-in-github",
        "colab_type": "text"
      },
      "source": [
        "<a href=\"https://colab.research.google.com/github/Ranjithkrishnasamy/Resub-DS-24/blob/main/Simple%20linear%20regression(Deliverytime).ipynb\" target=\"_parent\"><img src=\"https://colab.research.google.com/assets/colab-badge.svg\" alt=\"Open In Colab\"/></a>"
      ]
    },
    {
      "cell_type": "code",
      "execution_count": 3,
      "metadata": {
        "id": "8f2Y3fNNOQg6"
      },
      "outputs": [],
      "source": [
        "import pandas as pd\n",
        "import numpy as np\n",
        "import statsmodels.formula.api as smf\n",
        "import matplotlib.pyplot as plt\n",
        "from sklearn.model_selection import train_test_split\n",
        "from sklearn.metrics import mean_absolute_error, mean_squared_error, r2_score"
      ]
    },
    {
      "cell_type": "code",
      "source": [
        "path = r\"/content/delivery_time.csv\""
      ],
      "metadata": {
        "id": "MHrcR4hcOYSg"
      },
      "execution_count": 4,
      "outputs": []
    },
    {
      "cell_type": "code",
      "source": [
        "dataset = pd.read_csv(path)"
      ],
      "metadata": {
        "id": "Iwle8nmSOn4L"
      },
      "execution_count": 5,
      "outputs": []
    },
    {
      "cell_type": "code",
      "source": [
        "dataset.rename(columns={'Delivery Time': 'DeliveryTime', 'Sorting Time': 'SortingTime'}, inplace=True)"
      ],
      "metadata": {
        "id": "pyL602rqOrMB"
      },
      "execution_count": 6,
      "outputs": []
    },
    {
      "cell_type": "code",
      "source": [
        "X = dataset[['SortingTime']]\n",
        "y = dataset['DeliveryTime']\n",
        "X_train, X_test, y_train, y_test = train_test_split(X, y, test_size=0.2, random_state=42)"
      ],
      "metadata": {
        "id": "1z3d2nrXOu-T"
      },
      "execution_count": 7,
      "outputs": []
    },
    {
      "cell_type": "code",
      "source": [
        "model_1 = smf.ols('DeliveryTime ~ SortingTime', data=dataset).fit()\n",
        "model_2 = smf.ols('DeliveryTime ~ np.log(SortingTime)', data=dataset).fit()\n",
        "model_3 = smf.ols('DeliveryTime ~ np.sqrt(SortingTime)', data=dataset).fit()\n",
        "model_4 = smf.ols('DeliveryTime ~ np.exp(SortingTime)', data=dataset).fit()"
      ],
      "metadata": {
        "id": "hiYxzilzOzBT"
      },
      "execution_count": 8,
      "outputs": []
    },
    {
      "cell_type": "code",
      "source": [
        "print(\"R-squared values:\")\n",
        "print(\"Model 1 (No transformation):\", model_1.rsquared)\n",
        "print(\"Model 2 (Log transformation):\", model_2.rsquared)\n",
        "print(\"Model 3 (Square root transformation):\", model_3.rsquared)\n",
        "print(\"Model 4 (Exponential transformation):\", model_4.rsquared)"
      ],
      "metadata": {
        "colab": {
          "base_uri": "https://localhost:8080/"
        },
        "id": "ECLfqLdvO26Z",
        "outputId": "b4a6fa9d-149e-44c0-9a5a-489c68bd946b"
      },
      "execution_count": 9,
      "outputs": [
        {
          "output_type": "stream",
          "name": "stdout",
          "text": [
            "R-squared values:\n",
            "Model 1 (No transformation): 0.6822714748417231\n",
            "Model 2 (Log transformation): 0.6954434611324223\n",
            "Model 3 (Square root transformation): 0.695806227630867\n",
            "Model 4 (Exponential transformation): 0.3611177022709089\n"
          ]
        }
      ]
    },
    {
      "cell_type": "code",
      "source": [
        "best_model = model_1\n",
        "best_model_name = \"Model 1 (No transformation)\"\n",
        "if model_2.rsquared > best_model.rsquared:\n",
        "    best_model = model_2\n",
        "    best_model_name = \"Model 2 (Log transformation)\"\n",
        "if model_3.rsquared > best_model.rsquared:\n",
        "    best_model = model_3\n",
        "    best_model_name = \"Model 3 (Square root transformation)\"\n",
        "if model_4.rsquared > best_model.rsquared:\n",
        "    best_model = model_4\n",
        "    best_model_name = \"Model 4 (Exponential transformation)\""
      ],
      "metadata": {
        "id": "SFtdZNwgO9QY"
      },
      "execution_count": 10,
      "outputs": []
    },
    {
      "cell_type": "code",
      "source": [
        "print(\"Best Model:\", best_model_name)"
      ],
      "metadata": {
        "colab": {
          "base_uri": "https://localhost:8080/"
        },
        "id": "X-whLxPBO_Wr",
        "outputId": "bafe61c7-4c6f-4f16-a2bd-4bbdad580efe"
      },
      "execution_count": 11,
      "outputs": [
        {
          "output_type": "stream",
          "name": "stdout",
          "text": [
            "Best Model: Model 3 (Square root transformation)\n"
          ]
        }
      ]
    },
    {
      "cell_type": "code",
      "source": [
        "predictions = best_model.predict(X_test)"
      ],
      "metadata": {
        "id": "kAqZYu5mPGhO"
      },
      "execution_count": 12,
      "outputs": []
    },
    {
      "cell_type": "code",
      "source": [
        "mae = mean_absolute_error(y_test, predictions)\n",
        "mse = mean_squared_error(y_test, predictions)\n",
        "r2 = r2_score(y_test, predictions)\n",
        "print(\"Mean Absolute Error (Test):\", mae)\n",
        "print(\"Mean Squared Error (Test):\", mse)\n",
        "print(\"R-squared (Test):\", r2)"
      ],
      "metadata": {
        "colab": {
          "base_uri": "https://localhost:8080/"
        },
        "id": "GjOs2PyHPIiU",
        "outputId": "d70465a8-b5ca-4b80-a0a7-40cc5b490709"
      },
      "execution_count": 13,
      "outputs": [
        {
          "output_type": "stream",
          "name": "stdout",
          "text": [
            "Mean Absolute Error (Test): 1.6596906059906549\n",
            "Mean Squared Error (Test): 5.3739838793658325\n",
            "R-squared (Test): 0.2269001741039507\n"
          ]
        }
      ]
    },
    {
      "cell_type": "code",
      "source": [
        "new_data = pd.DataFrame({'SortingTime': np.linspace(X['SortingTime'].min(), X['SortingTime'].max(), 100)})\n",
        "predictions = best_model.predict(new_data)\n",
        "plt.scatter(X_train, y_train, color='blue', label='Training Data')\n",
        "plt.scatter(X_test, y_test, color='green', label='Test Data')\n",
        "plt.plot(new_data['SortingTime'], predictions, color='red', label='Fitted Line')\n",
        "plt.xlabel('Sorting Time')\n",
        "plt.ylabel('Delivery Time')\n",
        "plt.title('Linear Regression Model')\n",
        "plt.legend()\n",
        "plt.show()"
      ],
      "metadata": {
        "colab": {
          "base_uri": "https://localhost:8080/",
          "height": 472
        },
        "id": "5BNfp_lrPLmU",
        "outputId": "5f59e6f8-18bf-4a55-8b73-6dbeb7420799"
      },
      "execution_count": 14,
      "outputs": [
        {
          "output_type": "display_data",
          "data": {
            "text/plain": [
              "<Figure size 640x480 with 1 Axes>"
            ],
            "image/png": "[encoded data removed]"
          },
          "metadata": {}
        }
      ]
    }
  ]
}